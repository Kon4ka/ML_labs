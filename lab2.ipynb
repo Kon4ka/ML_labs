{
  "nbformat": 4,
  "nbformat_minor": 0,
  "metadata": {
    "colab": {
      "provenance": []
    },
    "kernelspec": {
      "name": "python3",
      "display_name": "Python 3"
    },
    "language_info": {
      "name": "python"
    }
  },
  "cells": [
    {
      "cell_type": "markdown",
      "source": [
        "##Глобальная оптимизация и метаэврестические алгоритмы\n",
        "1. В Pygmo запрогроммировать две своих тестовых функции и найти их оптимум 3 разными алгоритмами доступными в библиотеке и получить таблицу сравнения\n",
        "     "
      ],
      "metadata": {
        "id": "SOcA6OdQAB6t"
      }
    },
    {
      "cell_type": "code",
      "execution_count": null,
      "metadata": {
        "colab": {
          "base_uri": "https://localhost:8080/"
        },
        "id": "3Z5bF7ZV_4PW",
        "outputId": "2e2ca244-095b-4e39-c314-1b3084c0349f"
      },
      "outputs": [
        {
          "output_type": "stream",
          "name": "stdout",
          "text": [
            "Collecting pygmo\n",
            "  Downloading pygmo-2.19.5-cp310-cp310-manylinux_2_28_x86_64.whl (14.7 MB)\n",
            "\u001b[2K     \u001b[90m━━━━━━━━━━━━━━━━━━━━━━━━━━━━━━━━━━━━━━━━\u001b[0m \u001b[32m14.7/14.7 MB\u001b[0m \u001b[31m23.9 MB/s\u001b[0m eta \u001b[36m0:00:00\u001b[0m\n",
            "\u001b[?25hRequirement already satisfied: numpy in /usr/local/lib/python3.10/dist-packages (from pygmo) (1.23.5)\n",
            "Requirement already satisfied: cloudpickle in /usr/local/lib/python3.10/dist-packages (from pygmo) (2.2.1)\n",
            "Requirement already satisfied: scipy in /usr/local/lib/python3.10/dist-packages (from pygmo) (1.11.4)\n",
            "Installing collected packages: pygmo\n",
            "Successfully installed pygmo-2.19.5\n"
          ]
        }
      ],
      "source": [
        "!pip install pygmo"
      ]
    },
    {
      "cell_type": "code",
      "source": [
        "from matplotlib import pyplot as plt\n",
        "import pygmo as pg\n",
        "import numpy as np\n",
        "from typing import Mapping, Tuple\n",
        "import pandas as pd"
      ],
      "metadata": {
        "id": "atF7gtebAJMo"
      },
      "execution_count": null,
      "outputs": []
    },
    {
      "cell_type": "code",
      "source": [
        "class Byta():\n",
        "  @staticmethod\n",
        "  def fitness(x):\n",
        "        return [(x[0] + 2 * x[1] - 7) ** 2 + (2 * x[0] + x[1] - 5) ** 2]\n",
        "\n",
        "  @staticmethod\n",
        "  def get_bounds():\n",
        "    return np.array([[-10, -10], [10, 10]])\n",
        "\n",
        "  @staticmethod\n",
        "  def get_min():\n",
        "        return np.array([1., 3., 0.])"
      ],
      "metadata": {
        "id": "y64lwfAuASYV"
      },
      "execution_count": null,
      "outputs": []
    },
    {
      "cell_type": "code",
      "source": [
        "class Himmelblau():\n",
        "    @staticmethod\n",
        "    def fitness(x):\n",
        "        return [2 * x[0]**2 - 1.05*(x[0]**4) + (x[0]**6) / 6 + x[0] * x[1] + x[1]**2]\n",
        "\n",
        "    @staticmethod\n",
        "    def get_bounds():\n",
        "        return np.array([[-5, -5], [5, 5]])\n",
        "\n",
        "    @staticmethod\n",
        "    def get_min():\n",
        "        return np.array([[0., 0., 0.],\n",
        "                         [3., 2., 0.],\n",
        "                         [-2.805118, 3.131312, 0.],\n",
        "                         [-3.779310, -3.28316, 0.],\n",
        "                         [3.584428, -1.848126, 0.]])"
      ],
      "metadata": {
        "id": "AyXQ7Bs7AQf_"
      },
      "execution_count": null,
      "outputs": []
    },
    {
      "cell_type": "code",
      "source": [
        "# Инициализация алгоритмов\n",
        "algo1 = pg.algorithm(pg.de(gen = 100))\n",
        "algo2 = pg.algorithm(pg.pso(gen = 100))\n",
        "algo3 = pg.algorithm(pg.sga(gen = 100))\n",
        "\n",
        "# Создание проблем оптимизации\n",
        "prob1 = pg.problem(Byta())\n",
        "prob2 = pg.problem(Himmelblau())\n",
        "\n",
        "# Оптимизация\n",
        "results = []\n",
        "for algo in [algo1, algo2, algo3]:\n",
        "    for prob in [prob1, prob2]:\n",
        "        pop = pg.population(prob, 10)\n",
        "        pop = algo.evolve(pop)\n",
        "        problem_name = prob.get_name().split('.')[-1]  # Получаем имя класса из полного пути\n",
        "        results.append([algo.get_name(), problem_name, pop.champion_f[0]])\n",
        "\n",
        "for result in results:\n",
        "    print(\"Algorithm: {}, \\n Problem: {},\\n Best Fitness: {}\".format(*result))"
      ],
      "metadata": {
        "colab": {
          "base_uri": "https://localhost:8080/"
        },
        "id": "o2XKwa-xAcsF",
        "outputId": "53386823-7dd5-4388-9434-5397faaf6329"
      },
      "execution_count": null,
      "outputs": [
        {
          "output_type": "stream",
          "name": "stdout",
          "text": [
            "Algorithm: DE: Differential Evolution, \n",
            " Problem: Byta'>,\n",
            " Best Fitness: 4.683554506423476e-08\n",
            "Algorithm: DE: Differential Evolution, \n",
            " Problem: Himmelblau'>,\n",
            " Best Fitness: 2.1591250676141418e-09\n",
            "Algorithm: PSO: Particle Swarm Optimization, \n",
            " Problem: Byta'>,\n",
            " Best Fitness: 3.0412446684344645e-07\n",
            "Algorithm: PSO: Particle Swarm Optimization, \n",
            " Problem: Himmelblau'>,\n",
            " Best Fitness: 1.871678466434487e-09\n",
            "Algorithm: SGA: Genetic Algorithm, \n",
            " Problem: Byta'>,\n",
            " Best Fitness: 23.96127654910369\n",
            "Algorithm: SGA: Genetic Algorithm, \n",
            " Problem: Himmelblau'>,\n",
            " Best Fitness: 1.6439595575199504\n"
          ]
        }
      ]
    },
    {
      "cell_type": "code",
      "source": [
        "import pandas as pd\n",
        "\n",
        "# Создание DataFrame из результатов\n",
        "df = pd.DataFrame(results, columns=['Algorithm', 'Problem', 'Best Fitness'])\n",
        "print(df)"
      ],
      "metadata": {
        "colab": {
          "base_uri": "https://localhost:8080/"
        },
        "id": "jflpIG5FBDSZ",
        "outputId": "52ada5ee-dafa-4f62-f298-44f525c40f82"
      },
      "execution_count": null,
      "outputs": [
        {
          "output_type": "stream",
          "name": "stdout",
          "text": [
            "                          Algorithm       Problem  Best Fitness\n",
            "0        DE: Differential Evolution        Byta'>  4.683555e-08\n",
            "1        DE: Differential Evolution  Himmelblau'>  2.159125e-09\n",
            "2  PSO: Particle Swarm Optimization        Byta'>  3.041245e-07\n",
            "3  PSO: Particle Swarm Optimization  Himmelblau'>  1.871678e-09\n",
            "4            SGA: Genetic Algorithm        Byta'>  2.396128e+01\n",
            "5            SGA: Genetic Algorithm  Himmelblau'>  1.643960e+00\n"
          ]
        }
      ]
    },
    {
      "cell_type": "code",
      "source": [],
      "metadata": {
        "id": "VqSRLsJECiwS"
      },
      "execution_count": null,
      "outputs": []
    }
  ]
}